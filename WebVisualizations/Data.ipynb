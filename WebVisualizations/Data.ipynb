{
 "cells": [
  {
   "cell_type": "code",
   "execution_count": 1,
   "metadata": {},
   "outputs": [],
   "source": [
    "import pandas as pd\n",
    "import numpy as np"
   ]
  },
  {
   "cell_type": "code",
   "execution_count": 12,
   "metadata": {},
   "outputs": [
    {
     "data": {
      "text/html": [
       "<div>\n",
       "<style scoped>\n",
       "    .dataframe tbody tr th:only-of-type {\n",
       "        vertical-align: middle;\n",
       "    }\n",
       "\n",
       "    .dataframe tbody tr th {\n",
       "        vertical-align: top;\n",
       "    }\n",
       "\n",
       "    .dataframe thead th {\n",
       "        text-align: right;\n",
       "    }\n",
       "</style>\n",
       "<table border=\"1\" class=\"dataframe\">\n",
       "  <thead>\n",
       "    <tr style=\"text-align: right;\">\n",
       "      <th></th>\n",
       "      <th>City</th>\n",
       "      <th>Country</th>\n",
       "      <th>Latitude</th>\n",
       "      <th>Longitude</th>\n",
       "      <th>Temperature</th>\n",
       "      <th>Humidity</th>\n",
       "      <th>Cloudiness</th>\n",
       "      <th>Wind Speed</th>\n",
       "      <th>Date</th>\n",
       "    </tr>\n",
       "  </thead>\n",
       "  <tbody>\n",
       "    <tr>\n",
       "      <th>0</th>\n",
       "      <td>yellowknife</td>\n",
       "      <td>CA</td>\n",
       "      <td>62.46</td>\n",
       "      <td>-114.35</td>\n",
       "      <td>64.40</td>\n",
       "      <td>48.0</td>\n",
       "      <td>40</td>\n",
       "      <td>5.82</td>\n",
       "      <td>1.594954e+09</td>\n",
       "    </tr>\n",
       "    <tr>\n",
       "      <th>1</th>\n",
       "      <td>punta arenas</td>\n",
       "      <td>CL</td>\n",
       "      <td>-53.15</td>\n",
       "      <td>-70.92</td>\n",
       "      <td>30.20</td>\n",
       "      <td>86.0</td>\n",
       "      <td>0</td>\n",
       "      <td>4.70</td>\n",
       "      <td>1.594954e+09</td>\n",
       "    </tr>\n",
       "    <tr>\n",
       "      <th>2</th>\n",
       "      <td>mitsamiouli</td>\n",
       "      <td>KM</td>\n",
       "      <td>-11.38</td>\n",
       "      <td>43.28</td>\n",
       "      <td>74.75</td>\n",
       "      <td>72.0</td>\n",
       "      <td>0</td>\n",
       "      <td>22.37</td>\n",
       "      <td>1.594954e+09</td>\n",
       "    </tr>\n",
       "    <tr>\n",
       "      <th>3</th>\n",
       "      <td>atuona</td>\n",
       "      <td>PF</td>\n",
       "      <td>-9.80</td>\n",
       "      <td>-139.03</td>\n",
       "      <td>79.72</td>\n",
       "      <td>76.0</td>\n",
       "      <td>6</td>\n",
       "      <td>17.52</td>\n",
       "      <td>1.594954e+09</td>\n",
       "    </tr>\n",
       "    <tr>\n",
       "      <th>4</th>\n",
       "      <td>kamenka</td>\n",
       "      <td>RU</td>\n",
       "      <td>51.32</td>\n",
       "      <td>42.77</td>\n",
       "      <td>57.00</td>\n",
       "      <td>79.0</td>\n",
       "      <td>74</td>\n",
       "      <td>1.01</td>\n",
       "      <td>1.594954e+09</td>\n",
       "    </tr>\n",
       "  </tbody>\n",
       "</table>\n",
       "</div>"
      ],
      "text/plain": [
       "           City Country  Latitude  Longitude  Temperature  Humidity  \\\n",
       "0   yellowknife      CA     62.46    -114.35        64.40      48.0   \n",
       "1  punta arenas      CL    -53.15     -70.92        30.20      86.0   \n",
       "2   mitsamiouli      KM    -11.38      43.28        74.75      72.0   \n",
       "3        atuona      PF     -9.80    -139.03        79.72      76.0   \n",
       "4       kamenka      RU     51.32      42.77        57.00      79.0   \n",
       "\n",
       "   Cloudiness  Wind Speed          Date  \n",
       "0          40        5.82  1.594954e+09  \n",
       "1           0        4.70  1.594954e+09  \n",
       "2           0       22.37  1.594954e+09  \n",
       "3           6       17.52  1.594954e+09  \n",
       "4          74        1.01  1.594954e+09  "
      ]
     },
     "execution_count": 12,
     "metadata": {},
     "output_type": "execute_result"
    }
   ],
   "source": [
    "df = pd.read_csv('Resources/cities.csv')\n",
    "df.drop('Unnamed: 0', axis=1, inplace=True)\n",
    "df.head()"
   ]
  },
  {
   "cell_type": "code",
   "execution_count": 14,
   "metadata": {},
   "outputs": [],
   "source": [
    "df.to_html('Data.html', index=False)"
   ]
  },
  {
   "cell_type": "code",
   "execution_count": null,
   "metadata": {},
   "outputs": [],
   "source": []
  }
 ],
 "metadata": {
  "kernelspec": {
   "display_name": "Python 3.7.6 64-bit ('PythonData': conda)",
   "language": "python",
   "name": "python37664bitpythondatacondaf0a12fd6f7584b919c012f81b9dfbb5c"
  },
  "language_info": {
   "codemirror_mode": {
    "name": "ipython",
    "version": 3
   },
   "file_extension": ".py",
   "mimetype": "text/x-python",
   "name": "python",
   "nbconvert_exporter": "python",
   "pygments_lexer": "ipython3",
   "version": "3.7.6"
  }
 },
 "nbformat": 4,
 "nbformat_minor": 4
}
